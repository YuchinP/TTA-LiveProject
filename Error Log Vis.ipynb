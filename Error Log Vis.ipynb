{
 "cells": [
  {
   "cell_type": "code",
   "execution_count": 1,
   "metadata": {
    "collapsed": false
   },
   "outputs": [],
   "source": [
    "import pyodbc\n",
    "import matplotlib.pyplot as plt\n",
    "import pandas as pd\n",
    "import seaborn as sb\n",
    "import numpy as np"
   ]
  },
  {
   "cell_type": "code",
   "execution_count": 2,
   "metadata": {
    "collapsed": true
   },
   "outputs": [],
   "source": [
    "cnxn = pyodbc.connect('DRIVER={SQL Server};SERVER=;PORT=;DATABASE=;UID=;PWD=')\n"
   ]
  },
  {
   "cell_type": "code",
   "execution_count": 3,
   "metadata": {
    "collapsed": true
   },
   "outputs": [],
   "source": [
    "cursor = cnxn.cursor()"
   ]
  },
  {
   "cell_type": "code",
   "execution_count": 4,
   "metadata": {
    "collapsed": true
   },
   "outputs": [],
   "source": [
    "cnxn.setdecoding(pyodbc.SQL_WCHAR, encoding='utf-8')\n",
    "cnxn.setencoding(encoding='utf-8')"
   ]
  },
  {
   "cell_type": "code",
   "execution_count": 5,
   "metadata": {
    "collapsed": false
   },
   "outputs": [
    {
     "name": "stdout",
     "output_type": "stream",
     "text": [
      "('Customer Review Feed', )\n"
     ]
    }
   ],
   "source": [
    "cursor.execute(\"SELECT Category FROM ErrorLog\")\n",
    "row = cursor.fetchone()\n",
    "if row:\n",
    "    print(row)"
   ]
  },
  {
   "cell_type": "code",
   "execution_count": 7,
   "metadata": {
    "collapsed": false
   },
   "outputs": [],
   "source": [
    "errlog = cursor.execute(\"SELECT ErrorLogID, Category, Details, Exception, Date FROM ErrorLog GROUP BY Category, Details, Exception, Date, ErrorLogID\")"
   ]
  },
  {
   "cell_type": "code",
   "execution_count": 8,
   "metadata": {
    "collapsed": true
   },
   "outputs": [],
   "source": [
    "rows = cursor.fetchall()"
   ]
  },
  {
   "cell_type": "code",
   "execution_count": 25,
   "metadata": {
    "collapsed": false
   },
   "outputs": [],
   "source": [
    "%matplotlib inline"
   ]
  },
  {
   "cell_type": "code",
   "execution_count": 10,
   "metadata": {
    "collapsed": false
   },
   "outputs": [],
   "source": [
    "df = pd.DataFrame( [[ij for ij in i] for i in rows] )\n",
    "df.rename(columns={0: 'ID', 1: 'Category', 2: 'Details', 3: 'Exception', 4: 'Date'}, inplace=True);\n",
    "df = df.sort_values(['Category'], ascending=[1]);"
   ]
  },
  {
   "cell_type": "code",
   "execution_count": 11,
   "metadata": {
    "collapsed": false
   },
   "outputs": [
    {
     "data": {
      "text/html": [
       "<div>\n",
       "<table border=\"1\" class=\"dataframe\">\n",
       "  <thead>\n",
       "    <tr style=\"text-align: right;\">\n",
       "      <th></th>\n",
       "      <th>ID</th>\n",
       "      <th>Category</th>\n",
       "      <th>Details</th>\n",
       "      <th>Exception</th>\n",
       "      <th>Date</th>\n",
       "    </tr>\n",
       "  </thead>\n",
       "  <tbody>\n",
       "    <tr>\n",
       "      <th>85</th>\n",
       "      <td>86</td>\n",
       "      <td>Application Reboot</td>\n",
       "      <td>User (AYYLEIUKORG1E) has initiated a 513 Serve...</td>\n",
       "      <td>None</td>\n",
       "      <td>2016-06-11 17:38:22.397</td>\n",
       "    </tr>\n",
       "    <tr>\n",
       "      <th>100</th>\n",
       "      <td>101</td>\n",
       "      <td>Application Reboot</td>\n",
       "      <td>User (AYYLEIUKORG1E) has initiated a 513 Serve...</td>\n",
       "      <td>None</td>\n",
       "      <td>2016-06-11 17:44:35.197</td>\n",
       "    </tr>\n",
       "    <tr>\n",
       "      <th>506</th>\n",
       "      <td>507</td>\n",
       "      <td>Application Reboot</td>\n",
       "      <td>User (A6RAIV7X91M1X) has initiated a 513 Serve...</td>\n",
       "      <td>None</td>\n",
       "      <td>2016-07-02 17:26:06.957</td>\n",
       "    </tr>\n",
       "    <tr>\n",
       "      <th>101</th>\n",
       "      <td>102</td>\n",
       "      <td>Application Reboot</td>\n",
       "      <td>User (AYYLEIUKORG1E) has initiated a 513 Serve...</td>\n",
       "      <td>None</td>\n",
       "      <td>2016-06-11 17:44:41.493</td>\n",
       "    </tr>\n",
       "    <tr>\n",
       "      <th>327</th>\n",
       "      <td>328</td>\n",
       "      <td>Application Reboot</td>\n",
       "      <td>User (AYYLEIUKORG1E) has initiated a 513 Serve...</td>\n",
       "      <td>None</td>\n",
       "      <td>2016-06-24 10:02:30.910</td>\n",
       "    </tr>\n",
       "  </tbody>\n",
       "</table>\n",
       "</div>"
      ],
      "text/plain": [
       "      ID            Category  \\\n",
       "85    86  Application Reboot   \n",
       "100  101  Application Reboot   \n",
       "506  507  Application Reboot   \n",
       "101  102  Application Reboot   \n",
       "327  328  Application Reboot   \n",
       "\n",
       "                                               Details Exception  \\\n",
       "85   User (AYYLEIUKORG1E) has initiated a 513 Serve...      None   \n",
       "100  User (AYYLEIUKORG1E) has initiated a 513 Serve...      None   \n",
       "506  User (A6RAIV7X91M1X) has initiated a 513 Serve...      None   \n",
       "101  User (AYYLEIUKORG1E) has initiated a 513 Serve...      None   \n",
       "327  User (AYYLEIUKORG1E) has initiated a 513 Serve...      None   \n",
       "\n",
       "                       Date  \n",
       "85  2016-06-11 17:38:22.397  \n",
       "100 2016-06-11 17:44:35.197  \n",
       "506 2016-07-02 17:26:06.957  \n",
       "101 2016-06-11 17:44:41.493  \n",
       "327 2016-06-24 10:02:30.910  "
      ]
     },
     "execution_count": 11,
     "metadata": {},
     "output_type": "execute_result"
    }
   ],
   "source": [
    "df.head()"
   ]
  },
  {
   "cell_type": "code",
   "execution_count": 13,
   "metadata": {
    "collapsed": false
   },
   "outputs": [
    {
     "data": {
      "text/html": [
       "<div>\n",
       "<table border=\"1\" class=\"dataframe\">\n",
       "  <thead>\n",
       "    <tr style=\"text-align: right;\">\n",
       "      <th></th>\n",
       "      <th>ID</th>\n",
       "    </tr>\n",
       "  </thead>\n",
       "  <tbody>\n",
       "    <tr>\n",
       "      <th>count</th>\n",
       "      <td>1975.00000</td>\n",
       "    </tr>\n",
       "    <tr>\n",
       "      <th>mean</th>\n",
       "      <td>988.00000</td>\n",
       "    </tr>\n",
       "    <tr>\n",
       "      <th>std</th>\n",
       "      <td>570.27771</td>\n",
       "    </tr>\n",
       "    <tr>\n",
       "      <th>min</th>\n",
       "      <td>1.00000</td>\n",
       "    </tr>\n",
       "    <tr>\n",
       "      <th>25%</th>\n",
       "      <td>494.50000</td>\n",
       "    </tr>\n",
       "    <tr>\n",
       "      <th>50%</th>\n",
       "      <td>988.00000</td>\n",
       "    </tr>\n",
       "    <tr>\n",
       "      <th>75%</th>\n",
       "      <td>1481.50000</td>\n",
       "    </tr>\n",
       "    <tr>\n",
       "      <th>max</th>\n",
       "      <td>1975.00000</td>\n",
       "    </tr>\n",
       "  </tbody>\n",
       "</table>\n",
       "</div>"
      ],
      "text/plain": [
       "               ID\n",
       "count  1975.00000\n",
       "mean    988.00000\n",
       "std     570.27771\n",
       "min       1.00000\n",
       "25%     494.50000\n",
       "50%     988.00000\n",
       "75%    1481.50000\n",
       "max    1975.00000"
      ]
     },
     "execution_count": 13,
     "metadata": {},
     "output_type": "execute_result"
    }
   ],
   "source": [
    "df.describe()"
   ]
  },
  {
   "cell_type": "code",
   "execution_count": 14,
   "metadata": {
    "collapsed": false
   },
   "outputs": [
    {
     "data": {
      "text/plain": [
       "count                     1975\n",
       "unique                       4\n",
       "top       Customer Review Feed\n",
       "freq                      1832\n",
       "Name: Category, dtype: object"
      ]
     },
     "execution_count": 14,
     "metadata": {},
     "output_type": "execute_result"
    }
   ],
   "source": [
    "df['Category'].describe()"
   ]
  },
  {
   "cell_type": "code",
   "execution_count": 31,
   "metadata": {
    "collapsed": false
   },
   "outputs": [
    {
     "data": {
      "text/plain": [
       "count                                                  1921\n",
       "unique                                                   25\n",
       "top       System.Net.WebException: The remote server ret...\n",
       "freq                                                   1052\n",
       "Name: Exception, dtype: object"
      ]
     },
     "execution_count": 31,
     "metadata": {},
     "output_type": "execute_result"
    }
   ],
   "source": [
    "df['Exception'].describe()"
   ]
  },
  {
   "cell_type": "code",
   "execution_count": 21,
   "metadata": {
    "collapsed": false
   },
   "outputs": [
    {
     "data": {
      "text/plain": [
       "<matplotlib.axes._subplots.AxesSubplot at 0xb04c1d0>"
      ]
     },
     "execution_count": 21,
     "metadata": {},
     "output_type": "execute_result"
    },
    {
     "data": {
      "image/png": "[encoded data removed]",
      "text/plain": [
       "<matplotlib.figure.Figure at 0xb05afd0>"
      ]
     },
     "metadata": {},
     "output_type": "display_data"
    }
   ],
   "source": [
    "sb.countplot('Category', data = df)"
   ]
  },
  {
   "cell_type": "code",
   "execution_count": 32,
   "metadata": {
    "collapsed": false
   },
   "outputs": [
    {
     "data": {
      "text/plain": [
       "<matplotlib.axes._subplots.AxesSubplot at 0xb1d1668>"
      ]
     },
     "execution_count": 32,
     "metadata": {},
     "output_type": "execute_result"
    },
    {
     "data": {
      "image/png": "[encoded data removed]",
      "text/plain": [
       "<matplotlib.figure.Figure at 0xb1a67f0>"
      ]
     },
     "metadata": {},
     "output_type": "display_data"
    }
   ],
   "source": [
    "sb.countplot('Details', data = df)"
   ]
  },
  {
   "cell_type": "code",
   "execution_count": null,
   "metadata": {
    "collapsed": true
   },
   "outputs": [],
   "source": []
  }
 ],
 "metadata": {
  "anaconda-cloud": {},
  "kernelspec": {
   "display_name": "Python [conda root]",
   "language": "python",
   "name": "conda-root-py"
  },
  "language_info": {
   "codemirror_mode": {
    "name": "ipython",
    "version": 3
   },
   "file_extension": ".py",
   "mimetype": "text/x-python",
   "name": "python",
   "nbconvert_exporter": "python",
   "pygments_lexer": "ipython3",
   "version": "3.5.2"
  }
 },
 "nbformat": 4,
 "nbformat_minor": 1
}
